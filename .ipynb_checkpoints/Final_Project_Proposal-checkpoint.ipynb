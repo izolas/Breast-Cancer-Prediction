{
 "cells": [
  {
   "cell_type": "markdown",
   "id": "37f695e1",
   "metadata": {},
   "source": [
    "# Project Title: Breast Cancer Diagnosis/Prediction"
   ]
  },
  {
   "cell_type": "markdown",
   "id": "3e05aeab",
   "metadata": {},
   "source": [
    "**Project Team Members**\n",
    "\n",
    "<table>\n",
    "    <tr><th style=\"width:1000px\"><center>Name-Surname</center></th>\n",
    "        <th style=\"width:1000px\"><center>Student Number</center></th>\n",
    "        <th style=\"width:1000px\"><center>E-mail</center></th></tr>\n",
    "    <tr><td><center>İzzet Tekbaş</center></td>\n",
    "        <td><center>090200768</center></td>\n",
    "        <td><center>tekbas20@itu.edu.tr</center></td></tr>\n",
    "    <tr><td><center>Gülçin Taşdemir</center></td>\n",
    "        <td><center>090170348</center></td>\n",
    "        <td><center>tasdemir17@itu.edu.tr</center></td></tr>\n",
    "</table>"
   ]
  },
  {
   "cell_type": "markdown",
   "id": "114f7879",
   "metadata": {},
   "source": [
    "**Data Set Information:**\n",
    "\n",
    "Features are computed from a digitized image of a fine needle aspirate (FNA) of a breast mass. They describe characteristics of the cell nuclei present in the image.\n",
    "\n",
    "This dataset is available on UCI Machine Learning Repository:\n",
    "\n",
    "- https://archive.ics.uci.edu/ml/datasets/breast+cancer+wisconsin+(diagnostic)\n",
    "\n",
    "**Attribute Information:**\n",
    "\n",
    "1. ID number\n",
    "2. Diagnosis (M = malignant, B = benign)\n",
    "\n",
    "Ten real-valued features are computed for each cell nucleus:\n",
    "\n",
    "- radius (mean of distances from center to points on the perimeter)\n",
    "- texture (standard deviation of gray-scale values)\n",
    "- perimeter\n",
    "- area\n",
    "- smoothness (local variation in radius lengths)\n",
    "- compactness (perimeter^2 / area - 1.0)\n",
    "- concavity (severity of concave portions of the contour)\n",
    "- concave points (number of concave portions of the contour)\n",
    "- symmetry\n",
    "- fractal dimension (\"coastline approximation\" - 1)\n",
    "\n",
    "Class distribution: 357 benign, 212 malignant"
   ]
  },
  {
   "cell_type": "markdown",
   "id": "e250f7bf",
   "metadata": {},
   "source": [
    "**Questions:**\n",
    "\n",
    "- Is there a relationship between each of these mentioned features? In other words, does the size of a cell property's value affect the value of another property? \n",
    "- Is there a relationship between each of these features, and if so, what kind of relationship is there?\n",
    "- Can we predict whether a cell is malignant by looking at its features?\n"
   ]
  },
  {
   "cell_type": "markdown",
   "id": "0f5f8333",
   "metadata": {},
   "source": [
    "**Hypothesis:**\n",
    "\n",
    "There is a relationship between the value of at least one cell property and the malignant cell. We can test the existence of this relationship using different Linear or Logistic Regression\n"
   ]
  },
  {
   "cell_type": "markdown",
   "id": "187cf524",
   "metadata": {},
   "source": [
    "**Experiments, Methods, and Algorithms:**\n",
    "\n",
    "- Lineer/ Logistic Regression models that explain malignant cells in terms of cell features. And we will try to find the best Regression model.\n",
    "- "
   ]
  },
  {
   "cell_type": "markdown",
   "id": "eeee0688",
   "metadata": {},
   "source": [
    "**Tests:**\n",
    "\n",
    "- Using R-Squared Value, ANOVA Table and, Heat Map we will test the model(s) and see which features have a strong or weak relationship between\n",
    "- If we get an error in the methods we have determined, we will build different new models such as SVM, KNN.\n",
    "- If we can obtain more than one successful model, we will compare these models over a Confusion Matrix\n",
    "\n",
    "The main reason we are considering SVM is because it is supervised learning models with associated learning algorithms that analyze data for classification and regression analysis. KNN is the other backup model we consider because it is also used for classification and regression. Since we are going to work on benign cells and malignant cells in this project, we basically need classification models, so we thought of these models."
   ]
  },
  {
   "cell_type": "markdown",
   "id": "b598fdf1",
   "metadata": {},
   "source": [
    "**Expectations:**\n",
    "\n",
    "- Building the model that can detect malignant cells with a minimum accuracy of 96%\n",
    "- Finding the most effective feature for a cell to be malignant"
   ]
  },
  {
   "cell_type": "markdown",
   "id": "61219c5e",
   "metadata": {},
   "source": [
    "**Calendar & Division of Labor:**\n",
    "\n",
    "| Assessments                | Attendant       | Deadline |\n",
    "|----------------------------|-----------------|----------|\n",
    "| Reading Dataset            | Gülçin Taşdemir | Dec 3    |\n",
    "| Dataframe&Some Testing     | İzzet Tekbaş    | Dec 5    |\n",
    "| Setting Model(s)           | Gülçin Taşdemir | Dec 10   |\n",
    "| Testing Model(s)           | İzzet Tekbaş    | Dec 20   |\n",
    "| Visualization              | Gülçin Taşdemir | Dec 25   |\n",
    "| Project Delivery           | İzzet Tekbaş    | Dec 30   |"
   ]
  },
  {
   "cell_type": "markdown",
   "id": "8a695094-2daa-486f-850c-061731b03a2c",
   "metadata": {},
   "source": [
    "## Atabey's notes\n",
    "\n",
    "This is not a proposal. You had 4 weeks and you submit this?! Unacceptable!!!\n",
    "\n",
    "You need to give a full description of the data explaining what each feature is. Which questions are you asking? As it is the questions you ask are too simple (code can be written in less than 10 mins, longer if you cut/paste from internet.) What is your hypotheses? What are the available ML algorithms to test these hypotheses? Which ones are you going to choose? Why? How are they going to help you to solve/answer your questions? Which tests are you going to use to correlate the results of your experiments and your hypotheses? What happens when your tests fail? Do you have alternative hypotheses and questions?\n",
    "\n",
    "Also the calendar (what is going to be done and when) and division of labor (who is going to do what and when) is not provided.\n",
    "\n",
    "Submit something that has some depth. Writing my notes takes longer than writing what you submitted!!!!"
   ]
  },
  {
   "cell_type": "markdown",
   "id": "93633613",
   "metadata": {},
   "source": [
    "**Update Notes:**\n",
    "- Data Informations&Explanations are added.\n",
    "- Questions have been changed\n",
    "- The hypothesis has been made clearer.\n",
    "- The number of models and tests has been reduced. Specific models and tests were chosen as a starting point.\n",
    "- Calendar and Division of Labor are added\n",
    "\n",
    "**Second Update Notes:**\n",
    "- An explanation are added to Tests."
   ]
  },
  {
   "cell_type": "code",
   "execution_count": null,
   "id": "11f1d2e5",
   "metadata": {},
   "outputs": [],
   "source": []
  }
 ],
 "metadata": {
  "kernelspec": {
   "display_name": "Python 3",
   "language": "python",
   "name": "python3"
  },
  "language_info": {
   "codemirror_mode": {
    "name": "ipython",
    "version": 3
   },
   "file_extension": ".py",
   "mimetype": "text/x-python",
   "name": "python",
   "nbconvert_exporter": "python",
   "pygments_lexer": "ipython3",
   "version": "3.8.8"
  }
 },
 "nbformat": 4,
 "nbformat_minor": 5
}
