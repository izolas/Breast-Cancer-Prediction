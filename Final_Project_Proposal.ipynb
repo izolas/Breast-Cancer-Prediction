{
 "cells": [
  {
   "cell_type": "markdown",
   "id": "37f695e1",
   "metadata": {},
   "source": [
    "# Project Title: Breast Cancer Diagnosis/Prediction"
   ]
  },
  {
   "cell_type": "markdown",
   "id": "3e05aeab",
   "metadata": {},
   "source": [
    "**Project Team Members and Task Distributions:**\n",
    "\n",
    "<table>\n",
    "    <tr><th style=\"width:1000px\"><center>Name-Surname</center></th>\n",
    "        <th style=\"width:1000px\"><center>Student Number</center></th>\n",
    "        <th style=\"width:1000px\"><center>E-mail</center></th>\n",
    "        <th style=\"width:1000px\"><center>Task Distributions</center></th></tr>\n",
    "    <tr><td><center>İzzet Tekbaş</center></td>\n",
    "        <td><center>090200768</center></td>\n",
    "        <td><center>tekbas20@itu.edu.tr</center></td>\n",
    "        <td><center>Searching  Articles <br>Building Model and Testing <br> Other Algorithms and Functions</center> </td></tr>\n",
    "    <tr><td><center>Gülçin Taşdemir</center></td>\n",
    "        <td><center>090170348</center></td>\n",
    "        <td><center>tasdemir17@itu.edu.tr</center></td>\n",
    "        <td><center>Data Exploring<br>Building Model and Testing <br> Visualization</center> </td></tr>\n",
    "</table>"
   ]
  },
  {
   "cell_type": "markdown",
   "id": "114f7879",
   "metadata": {},
   "source": [
    "**Datasets:**\n",
    "\n",
    "- https://archive.ics.uci.edu/ml/datasets/breast+cancer+wisconsin+(diagnostic)\n"
   ]
  },
  {
   "cell_type": "markdown",
   "id": "e250f7bf",
   "metadata": {},
   "source": [
    "**Questions:**\n",
    "\n",
    "- Is there a relationship between the features of a cell?\n",
    "- What features of a cell can be associated with its cancerousness?\n",
    "- Can we predict whether a cell is malignant by looking at its features?\n"
   ]
  },
  {
   "cell_type": "markdown",
   "id": "0f5f8333",
   "metadata": {},
   "source": [
    "**Hypothesis:**\n",
    "\n",
    "Using machine learning, we can diagnose that a cell may be malignant.\n"
   ]
  },
  {
   "cell_type": "markdown",
   "id": "187cf524",
   "metadata": {},
   "source": [
    "**Experiments, Methods, and Algorithms:**\n",
    "\n",
    "- Logistic Regression\n",
    "- SVM\n",
    "- Random Forest Model\n",
    "- Decision Tree\n",
    "- KNN"
   ]
  },
  {
   "cell_type": "markdown",
   "id": "eeee0688",
   "metadata": {},
   "source": [
    "**Tests:**\n",
    "\n",
    "- R-Squared\n",
    "- T-test\n",
    "- Confusion Matrix\n",
    "- Heat Map"
   ]
  },
  {
   "cell_type": "markdown",
   "id": "b598fdf1",
   "metadata": {},
   "source": [
    "**Expectations:**\n",
    "\n",
    "- Building the model that can detect malignant cells with a minimum accuracy of 96%\n",
    "- Finding the most effective feature for a cell to be malignant"
   ]
  }
 ],
 "metadata": {
  "kernelspec": {
   "display_name": "Python 3 (ipykernel)",
   "language": "python",
   "name": "python3"
  },
  "language_info": {
   "codemirror_mode": {
    "name": "ipython",
    "version": 3
   },
   "file_extension": ".py",
   "mimetype": "text/x-python",
   "name": "python",
   "nbconvert_exporter": "python",
   "pygments_lexer": "ipython3",
   "version": "3.9.7"
  }
 },
 "nbformat": 4,
 "nbformat_minor": 5
}
